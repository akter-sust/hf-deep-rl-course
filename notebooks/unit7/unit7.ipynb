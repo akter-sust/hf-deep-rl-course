{
  "nbformat": 4,
  "nbformat_minor": 0,
  "metadata": {
    "colab": {
      "provenance": [],
      "gpuType": "T4",
      "authorship_tag": "ABX9TyOagtcKjG8FS8lYMyeKS29a",
      "include_colab_link": true
    },
    "kernelspec": {
      "name": "python3",
      "display_name": "Python 3"
    },
    "language_info": {
      "name": "python"
    },
    "accelerator": "GPU"
  },
  "cells": [
    {
      "cell_type": "markdown",
      "metadata": {
        "id": "view-in-github",
        "colab_type": "text"
      },
      "source": [
        "<a href=\"https://colab.research.google.com/github/akter-sust/hf-deep-rl-course/blob/main/notebooks/unit7/unit7.ipynb\" target=\"_parent\"><img src=\"https://colab.research.google.com/assets/colab-badge.svg\" alt=\"Open In Colab\"/></a>"
      ]
    },
    {
      "cell_type": "code",
      "execution_count": 7,
      "metadata": {
        "colab": {
          "base_uri": "https://localhost:8080/",
          "height": 1000
        },
        "id": "VyXD7GBrJCty",
        "outputId": "38e2dd3c-320e-4069-fe1a-5f991918b27e"
      },
      "outputs": [
        {
          "output_type": "stream",
          "name": "stdout",
          "text": [
            "Cloning into 'ml-agents'...\n",
            "remote: Enumerating objects: 91720, done.\u001b[K\n",
            "remote: Counting objects: 100% (2609/2609), done.\u001b[K\n",
            "remote: Compressing objects: 100% (1014/1014), done.\u001b[K\n",
            "remote: Total 91720 (delta 1466), reused 2156 (delta 1213), pack-reused 89111\u001b[K\n",
            "Receiving objects: 100% (91720/91720), 2.87 GiB | 16.32 MiB/s, done.\n",
            "Resolving deltas: 100% (66594/66594), done.\n",
            "Updating files: 100% (2177/2177), done.\n",
            "/content/ml-agents\n",
            "Obtaining file:///content/ml-agents/ml-agents-envs\n",
            "  Preparing metadata (setup.py) ... \u001b[?25l\u001b[?25hdone\n",
            "Requirement already satisfied: cloudpickle in /usr/local/lib/python3.10/dist-packages (from mlagents-envs==1.1.0.dev0) (2.2.1)\n",
            "Collecting grpcio<=1.48.2,>=1.11.0 (from mlagents-envs==1.1.0.dev0)\n",
            "  Downloading grpcio-1.48.2-cp310-cp310-manylinux_2_17_x86_64.manylinux2014_x86_64.whl (4.6 MB)\n",
            "\u001b[2K     \u001b[90m━━━━━━━━━━━━━━━━━━━━━━━━━━━━━━━━━━━━━━━━\u001b[0m \u001b[32m4.6/4.6 MB\u001b[0m \u001b[31m11.7 MB/s\u001b[0m eta \u001b[36m0:00:00\u001b[0m\n",
            "\u001b[?25hRequirement already satisfied: Pillow>=4.2.1 in /usr/local/lib/python3.10/dist-packages (from mlagents-envs==1.1.0.dev0) (9.4.0)\n",
            "Collecting protobuf<3.20,>=3.6 (from mlagents-envs==1.1.0.dev0)\n",
            "  Downloading protobuf-3.19.6-cp310-cp310-manylinux_2_17_x86_64.manylinux2014_x86_64.whl (1.1 MB)\n",
            "\u001b[2K     \u001b[90m━━━━━━━━━━━━━━━━━━━━━━━━━━━━━━━━━━━━━━━━\u001b[0m \u001b[32m1.1/1.1 MB\u001b[0m \u001b[31m77.7 MB/s\u001b[0m eta \u001b[36m0:00:00\u001b[0m\n",
            "\u001b[?25hRequirement already satisfied: pyyaml>=3.1.0 in /usr/local/lib/python3.10/dist-packages (from mlagents-envs==1.1.0.dev0) (6.0.1)\n",
            "Requirement already satisfied: gym>=0.21.0 in /usr/local/lib/python3.10/dist-packages (from mlagents-envs==1.1.0.dev0) (0.25.2)\n",
            "Collecting pettingzoo==1.15.0 (from mlagents-envs==1.1.0.dev0)\n",
            "  Downloading PettingZoo-1.15.0.tar.gz (756 kB)\n",
            "\u001b[2K     \u001b[90m━━━━━━━━━━━━━━━━━━━━━━━━━━━━━━━━━━━━━━━━\u001b[0m \u001b[32m756.7/756.7 kB\u001b[0m \u001b[31m68.9 MB/s\u001b[0m eta \u001b[36m0:00:00\u001b[0m\n",
            "\u001b[?25h  Preparing metadata (setup.py) ... \u001b[?25l\u001b[?25hdone\n",
            "Requirement already satisfied: numpy<1.24.0,>=1.21.2 in /usr/local/lib/python3.10/dist-packages (from mlagents-envs==1.1.0.dev0) (1.23.5)\n",
            "Requirement already satisfied: filelock>=3.4.0 in /usr/local/lib/python3.10/dist-packages (from mlagents-envs==1.1.0.dev0) (3.12.4)\n",
            "Requirement already satisfied: six>=1.5.2 in /usr/local/lib/python3.10/dist-packages (from grpcio<=1.48.2,>=1.11.0->mlagents-envs==1.1.0.dev0) (1.16.0)\n",
            "Requirement already satisfied: gym-notices>=0.0.4 in /usr/local/lib/python3.10/dist-packages (from gym>=0.21.0->mlagents-envs==1.1.0.dev0) (0.0.8)\n",
            "Building wheels for collected packages: pettingzoo\n",
            "  Building wheel for pettingzoo (setup.py) ... \u001b[?25l\u001b[?25hdone\n",
            "  Created wheel for pettingzoo: filename=PettingZoo-1.15.0-py3-none-any.whl size=875632 sha256=eeceb0e202149674158b5d48a7edcc6bbc435d77adc292e06fd706d431705821\n",
            "  Stored in directory: /root/.cache/pip/wheels/e3/35/ac/76984cb1c12902d190c818d57c43d25c3f9281591a640ccd13\n",
            "Successfully built pettingzoo\n",
            "Installing collected packages: protobuf, grpcio, pettingzoo, mlagents-envs\n",
            "  Attempting uninstall: protobuf\n",
            "    Found existing installation: protobuf 3.20.3\n",
            "    Uninstalling protobuf-3.20.3:\n",
            "      Successfully uninstalled protobuf-3.20.3\n",
            "  Attempting uninstall: grpcio\n",
            "    Found existing installation: grpcio 1.59.0\n",
            "    Uninstalling grpcio-1.59.0:\n",
            "      Successfully uninstalled grpcio-1.59.0\n",
            "  Running setup.py develop for mlagents-envs\n",
            "\u001b[31mERROR: pip's dependency resolver does not currently take into account all the packages that are installed. This behaviour is the source of the following dependency conflicts.\n",
            "tensorflow 2.14.0 requires protobuf!=4.21.0,!=4.21.1,!=4.21.2,!=4.21.3,!=4.21.4,!=4.21.5,<5.0.0dev,>=3.20.3, but you have protobuf 3.19.6 which is incompatible.\n",
            "tensorflow-datasets 4.9.3 requires protobuf>=3.20, but you have protobuf 3.19.6 which is incompatible.\n",
            "tensorflow-metadata 1.14.0 requires protobuf<4.21,>=3.20.3, but you have protobuf 3.19.6 which is incompatible.\u001b[0m\u001b[31m\n",
            "\u001b[0mSuccessfully installed grpcio-1.48.2 mlagents-envs-1.1.0.dev0 pettingzoo-1.15.0 protobuf-3.19.6\n"
          ]
        },
        {
          "output_type": "display_data",
          "data": {
            "application/vnd.colab-display-data+json": {
              "pip_warning": {
                "packages": [
                  "google",
                  "grpc"
                ]
              }
            }
          },
          "metadata": {}
        },
        {
          "output_type": "stream",
          "name": "stdout",
          "text": [
            "Obtaining file:///content/ml-agents/ml-agents\n",
            "  Preparing metadata (setup.py) ... \u001b[?25l\u001b[?25hdone\n",
            "Requirement already satisfied: grpcio<=1.48.2,>=1.11.0 in /usr/local/lib/python3.10/dist-packages (from mlagents==1.1.0.dev0) (1.48.2)\n",
            "Requirement already satisfied: h5py>=2.9.0 in /usr/local/lib/python3.10/dist-packages (from mlagents==1.1.0.dev0) (3.9.0)\n",
            "Requirement already satisfied: mlagents_envs==1.1.0.dev0 in ./ml-agents-envs (from mlagents==1.1.0.dev0) (1.1.0.dev0)\n",
            "Requirement already satisfied: numpy<1.24.0,>=1.21.2 in /usr/local/lib/python3.10/dist-packages (from mlagents==1.1.0.dev0) (1.23.5)\n",
            "Requirement already satisfied: Pillow>=4.2.1 in /usr/local/lib/python3.10/dist-packages (from mlagents==1.1.0.dev0) (9.4.0)\n",
            "Requirement already satisfied: protobuf<3.20,>=3.6 in /usr/local/lib/python3.10/dist-packages (from mlagents==1.1.0.dev0) (3.19.6)\n",
            "Requirement already satisfied: pyyaml>=3.1.0 in /usr/local/lib/python3.10/dist-packages (from mlagents==1.1.0.dev0) (6.0.1)\n",
            "Requirement already satisfied: torch>=1.13.1 in /usr/local/lib/python3.10/dist-packages (from mlagents==1.1.0.dev0) (2.1.0+cu118)\n",
            "Requirement already satisfied: tensorboard>=2.14 in /usr/local/lib/python3.10/dist-packages (from mlagents==1.1.0.dev0) (2.14.1)\n",
            "Requirement already satisfied: six>=1.16 in /usr/local/lib/python3.10/dist-packages (from mlagents==1.1.0.dev0) (1.16.0)\n",
            "Requirement already satisfied: attrs>=19.3.0 in /usr/local/lib/python3.10/dist-packages (from mlagents==1.1.0.dev0) (23.1.0)\n",
            "Collecting huggingface_hub>=0.14 (from mlagents==1.1.0.dev0)\n",
            "  Downloading huggingface_hub-0.18.0-py3-none-any.whl (301 kB)\n",
            "\u001b[2K     \u001b[90m━━━━━━━━━━━━━━━━━━━━━━━━━━━━━━━━━━━━━━━━\u001b[0m \u001b[32m302.0/302.0 kB\u001b[0m \u001b[31m5.8 MB/s\u001b[0m eta \u001b[36m0:00:00\u001b[0m\n",
            "\u001b[?25hCollecting onnx==1.12.0 (from mlagents==1.1.0.dev0)\n",
            "  Downloading onnx-1.12.0-cp310-cp310-manylinux_2_17_x86_64.manylinux2014_x86_64.whl (13.1 MB)\n",
            "\u001b[2K     \u001b[90m━━━━━━━━━━━━━━━━━━━━━━━━━━━━━━━━━━━━━━━━\u001b[0m \u001b[32m13.1/13.1 MB\u001b[0m \u001b[31m92.7 MB/s\u001b[0m eta \u001b[36m0:00:00\u001b[0m\n",
            "\u001b[?25hCollecting cattrs<1.7,>=1.1.0 (from mlagents==1.1.0.dev0)\n",
            "  Downloading cattrs-1.5.0-py3-none-any.whl (19 kB)\n",
            "Requirement already satisfied: cloudpickle in /usr/local/lib/python3.10/dist-packages (from mlagents_envs==1.1.0.dev0->mlagents==1.1.0.dev0) (2.2.1)\n",
            "Requirement already satisfied: gym>=0.21.0 in /usr/local/lib/python3.10/dist-packages (from mlagents_envs==1.1.0.dev0->mlagents==1.1.0.dev0) (0.25.2)\n",
            "Requirement already satisfied: pettingzoo==1.15.0 in /usr/local/lib/python3.10/dist-packages (from mlagents_envs==1.1.0.dev0->mlagents==1.1.0.dev0) (1.15.0)\n",
            "Requirement already satisfied: filelock>=3.4.0 in /usr/local/lib/python3.10/dist-packages (from mlagents_envs==1.1.0.dev0->mlagents==1.1.0.dev0) (3.12.4)\n",
            "Requirement already satisfied: typing-extensions>=3.6.2.1 in /usr/local/lib/python3.10/dist-packages (from onnx==1.12.0->mlagents==1.1.0.dev0) (4.5.0)\n",
            "Requirement already satisfied: fsspec>=2023.5.0 in /usr/local/lib/python3.10/dist-packages (from huggingface_hub>=0.14->mlagents==1.1.0.dev0) (2023.6.0)\n",
            "Requirement already satisfied: requests in /usr/local/lib/python3.10/dist-packages (from huggingface_hub>=0.14->mlagents==1.1.0.dev0) (2.31.0)\n",
            "Requirement already satisfied: tqdm>=4.42.1 in /usr/local/lib/python3.10/dist-packages (from huggingface_hub>=0.14->mlagents==1.1.0.dev0) (4.66.1)\n",
            "Requirement already satisfied: packaging>=20.9 in /usr/local/lib/python3.10/dist-packages (from huggingface_hub>=0.14->mlagents==1.1.0.dev0) (23.2)\n",
            "Requirement already satisfied: absl-py>=0.4 in /usr/local/lib/python3.10/dist-packages (from tensorboard>=2.14->mlagents==1.1.0.dev0) (1.4.0)\n",
            "Requirement already satisfied: google-auth<3,>=1.6.3 in /usr/local/lib/python3.10/dist-packages (from tensorboard>=2.14->mlagents==1.1.0.dev0) (2.17.3)\n",
            "Requirement already satisfied: google-auth-oauthlib<1.1,>=0.5 in /usr/local/lib/python3.10/dist-packages (from tensorboard>=2.14->mlagents==1.1.0.dev0) (1.0.0)\n",
            "Requirement already satisfied: markdown>=2.6.8 in /usr/local/lib/python3.10/dist-packages (from tensorboard>=2.14->mlagents==1.1.0.dev0) (3.5)\n",
            "Requirement already satisfied: setuptools>=41.0.0 in /usr/local/lib/python3.10/dist-packages (from tensorboard>=2.14->mlagents==1.1.0.dev0) (67.7.2)\n",
            "Requirement already satisfied: tensorboard-data-server<0.8.0,>=0.7.0 in /usr/local/lib/python3.10/dist-packages (from tensorboard>=2.14->mlagents==1.1.0.dev0) (0.7.2)\n",
            "Requirement already satisfied: werkzeug>=1.0.1 in /usr/local/lib/python3.10/dist-packages (from tensorboard>=2.14->mlagents==1.1.0.dev0) (3.0.1)\n",
            "Requirement already satisfied: sympy in /usr/local/lib/python3.10/dist-packages (from torch>=1.13.1->mlagents==1.1.0.dev0) (1.12)\n",
            "Requirement already satisfied: networkx in /usr/local/lib/python3.10/dist-packages (from torch>=1.13.1->mlagents==1.1.0.dev0) (3.2)\n",
            "Requirement already satisfied: jinja2 in /usr/local/lib/python3.10/dist-packages (from torch>=1.13.1->mlagents==1.1.0.dev0) (3.1.2)\n",
            "Requirement already satisfied: triton==2.1.0 in /usr/local/lib/python3.10/dist-packages (from torch>=1.13.1->mlagents==1.1.0.dev0) (2.1.0)\n",
            "Requirement already satisfied: cachetools<6.0,>=2.0.0 in /usr/local/lib/python3.10/dist-packages (from google-auth<3,>=1.6.3->tensorboard>=2.14->mlagents==1.1.0.dev0) (5.3.2)\n",
            "Requirement already satisfied: pyasn1-modules>=0.2.1 in /usr/local/lib/python3.10/dist-packages (from google-auth<3,>=1.6.3->tensorboard>=2.14->mlagents==1.1.0.dev0) (0.3.0)\n",
            "Requirement already satisfied: rsa<5,>=3.1.4 in /usr/local/lib/python3.10/dist-packages (from google-auth<3,>=1.6.3->tensorboard>=2.14->mlagents==1.1.0.dev0) (4.9)\n",
            "Requirement already satisfied: requests-oauthlib>=0.7.0 in /usr/local/lib/python3.10/dist-packages (from google-auth-oauthlib<1.1,>=0.5->tensorboard>=2.14->mlagents==1.1.0.dev0) (1.3.1)\n",
            "Requirement already satisfied: gym-notices>=0.0.4 in /usr/local/lib/python3.10/dist-packages (from gym>=0.21.0->mlagents_envs==1.1.0.dev0->mlagents==1.1.0.dev0) (0.0.8)\n",
            "Requirement already satisfied: charset-normalizer<4,>=2 in /usr/local/lib/python3.10/dist-packages (from requests->huggingface_hub>=0.14->mlagents==1.1.0.dev0) (3.3.1)\n",
            "Requirement already satisfied: idna<4,>=2.5 in /usr/local/lib/python3.10/dist-packages (from requests->huggingface_hub>=0.14->mlagents==1.1.0.dev0) (3.4)\n",
            "Requirement already satisfied: urllib3<3,>=1.21.1 in /usr/local/lib/python3.10/dist-packages (from requests->huggingface_hub>=0.14->mlagents==1.1.0.dev0) (2.0.7)\n",
            "Requirement already satisfied: certifi>=2017.4.17 in /usr/local/lib/python3.10/dist-packages (from requests->huggingface_hub>=0.14->mlagents==1.1.0.dev0) (2023.7.22)\n",
            "Requirement already satisfied: MarkupSafe>=2.1.1 in /usr/local/lib/python3.10/dist-packages (from werkzeug>=1.0.1->tensorboard>=2.14->mlagents==1.1.0.dev0) (2.1.3)\n",
            "Requirement already satisfied: mpmath>=0.19 in /usr/local/lib/python3.10/dist-packages (from sympy->torch>=1.13.1->mlagents==1.1.0.dev0) (1.3.0)\n",
            "Requirement already satisfied: pyasn1<0.6.0,>=0.4.6 in /usr/local/lib/python3.10/dist-packages (from pyasn1-modules>=0.2.1->google-auth<3,>=1.6.3->tensorboard>=2.14->mlagents==1.1.0.dev0) (0.5.0)\n",
            "Requirement already satisfied: oauthlib>=3.0.0 in /usr/local/lib/python3.10/dist-packages (from requests-oauthlib>=0.7.0->google-auth-oauthlib<1.1,>=0.5->tensorboard>=2.14->mlagents==1.1.0.dev0) (3.2.2)\n",
            "Installing collected packages: onnx, cattrs, huggingface_hub, mlagents\n",
            "  Running setup.py develop for mlagents\n",
            "Successfully installed cattrs-1.5.0 huggingface_hub-0.18.0 mlagents-1.1.0.dev0 onnx-1.12.0\n"
          ]
        }
      ],
      "source": [
        "!git clone https://github.com/Unity-Technologies/ml-agents\n",
        "%cd ml-agents\n",
        "!pip install -e ./ml-agents-envs\n",
        "!pip install -e ./ml-agents"
      ]
    },
    {
      "cell_type": "code",
      "source": [
        "!pip install torch\n",
        "!pip install onnx==1.12.0"
      ],
      "metadata": {
        "colab": {
          "base_uri": "https://localhost:8080/"
        },
        "id": "YnQ0dnBVJZyp",
        "outputId": "1fa0478c-426d-438d-c9ee-b66592dc2cae"
      },
      "execution_count": 8,
      "outputs": [
        {
          "output_type": "stream",
          "name": "stdout",
          "text": [
            "Requirement already satisfied: torch in /usr/local/lib/python3.10/dist-packages (2.1.0+cu118)\n",
            "Requirement already satisfied: filelock in /usr/local/lib/python3.10/dist-packages (from torch) (3.12.4)\n",
            "Requirement already satisfied: typing-extensions in /usr/local/lib/python3.10/dist-packages (from torch) (4.5.0)\n",
            "Requirement already satisfied: sympy in /usr/local/lib/python3.10/dist-packages (from torch) (1.12)\n",
            "Requirement already satisfied: networkx in /usr/local/lib/python3.10/dist-packages (from torch) (3.2)\n",
            "Requirement already satisfied: jinja2 in /usr/local/lib/python3.10/dist-packages (from torch) (3.1.2)\n",
            "Requirement already satisfied: fsspec in /usr/local/lib/python3.10/dist-packages (from torch) (2023.6.0)\n",
            "Requirement already satisfied: triton==2.1.0 in /usr/local/lib/python3.10/dist-packages (from torch) (2.1.0)\n",
            "Requirement already satisfied: MarkupSafe>=2.0 in /usr/local/lib/python3.10/dist-packages (from jinja2->torch) (2.1.3)\n",
            "Requirement already satisfied: mpmath>=0.19 in /usr/local/lib/python3.10/dist-packages (from sympy->torch) (1.3.0)\n",
            "Requirement already satisfied: onnx==1.12.0 in /usr/local/lib/python3.10/dist-packages (1.12.0)\n",
            "Requirement already satisfied: numpy>=1.16.6 in /usr/local/lib/python3.10/dist-packages (from onnx==1.12.0) (1.23.5)\n",
            "Requirement already satisfied: protobuf<=3.20.1,>=3.12.2 in /usr/local/lib/python3.10/dist-packages (from onnx==1.12.0) (3.19.6)\n",
            "Requirement already satisfied: typing-extensions>=3.6.2.1 in /usr/local/lib/python3.10/dist-packages (from onnx==1.12.0) (4.5.0)\n"
          ]
        }
      ]
    },
    {
      "cell_type": "code",
      "source": [
        "!apt install git-lfs"
      ],
      "metadata": {
        "colab": {
          "base_uri": "https://localhost:8080/"
        },
        "id": "ZrW9RmztKJJy",
        "outputId": "cbc11a17-3e3c-4921-ccee-c1c3682e46cd"
      },
      "execution_count": 9,
      "outputs": [
        {
          "output_type": "stream",
          "name": "stdout",
          "text": [
            "Reading package lists... Done\n",
            "Building dependency tree... Done\n",
            "Reading state information... Done\n",
            "git-lfs is already the newest version (3.0.2-1ubuntu0.2).\n",
            "0 upgraded, 0 newly installed, 0 to remove and 19 not upgraded.\n"
          ]
        }
      ]
    },
    {
      "cell_type": "code",
      "source": [
        "!mkdir ./training-envs-executables\n",
        "!mkdir ./training-envs-executables/linux"
      ],
      "metadata": {
        "id": "JbmiK17MLO5p"
      },
      "execution_count": 10,
      "outputs": []
    },
    {
      "cell_type": "code",
      "source": [
        "!wget --load-cookies /tmp/cookies.txt \"https://docs.google.com/uc?export=download&confirm=$(wget --quiet --save-cookies /tmp/cookies.txt --keep-session-cookies --no-check-certificate 'https://docs.google.com/uc?export=download&id=1KuqBKYiXiIcU4kNMqEzhgypuFP5_45CL' -O- | sed -rn 's/.*confirm=([0-9A-Za-z_]+).*/\\1\\n/p')&id=1KuqBKYiXiIcU4kNMqEzhgypuFP5_45CL\" -O ./training-envs-executables/linux/SoccerTwos.zip && rm -rf /tmp/cookies.txt"
      ],
      "metadata": {
        "colab": {
          "base_uri": "https://localhost:8080/"
        },
        "id": "N0uHdavGLTBS",
        "outputId": "9bf4cfe8-4f45-48a1-9d82-e139036dbf56"
      },
      "execution_count": 11,
      "outputs": [
        {
          "output_type": "stream",
          "name": "stdout",
          "text": [
            "--2023-10-31 00:42:38--  https://docs.google.com/uc?export=download&confirm=t&id=1KuqBKYiXiIcU4kNMqEzhgypuFP5_45CL\n",
            "Resolving docs.google.com (docs.google.com)... 64.233.170.139, 64.233.170.138, 64.233.170.100, ...\n",
            "Connecting to docs.google.com (docs.google.com)|64.233.170.139|:443... connected.\n",
            "HTTP request sent, awaiting response... 303 See Other\n",
            "Location: https://doc-04-8c-docs.googleusercontent.com/docs/securesc/ha0ro937gcuc7l7deffksulhg5h7mbp1/qc26q171eg0dukp6t0bmglmc2rvghms8/1698712950000/09764732090272539193/*/1KuqBKYiXiIcU4kNMqEzhgypuFP5_45CL?e=download&uuid=392ca674-c22c-48f2-84fc-d028aebdc7f8 [following]\n",
            "Warning: wildcards not supported in HTTP.\n",
            "--2023-10-31 00:42:39--  https://doc-04-8c-docs.googleusercontent.com/docs/securesc/ha0ro937gcuc7l7deffksulhg5h7mbp1/qc26q171eg0dukp6t0bmglmc2rvghms8/1698712950000/09764732090272539193/*/1KuqBKYiXiIcU4kNMqEzhgypuFP5_45CL?e=download&uuid=392ca674-c22c-48f2-84fc-d028aebdc7f8\n",
            "Resolving doc-04-8c-docs.googleusercontent.com (doc-04-8c-docs.googleusercontent.com)... 172.253.118.132, 2404:6800:4003:c05::84\n",
            "Connecting to doc-04-8c-docs.googleusercontent.com (doc-04-8c-docs.googleusercontent.com)|172.253.118.132|:443... connected.\n",
            "HTTP request sent, awaiting response... 200 OK\n",
            "Length: 36963480 (35M) [application/x-zip-compressed]\n",
            "Saving to: ‘./training-envs-executables/linux/SoccerTwos.zip’\n",
            "\n",
            "./training-envs-exe 100%[===================>]  35.25M  9.10MB/s    in 3.9s    \n",
            "\n",
            "2023-10-31 00:42:44 (9.10 MB/s) - ‘./training-envs-executables/linux/SoccerTwos.zip’ saved [36963480/36963480]\n",
            "\n"
          ]
        }
      ]
    },
    {
      "cell_type": "code",
      "source": [
        "%%capture\n",
        "!unzip -d ./training-envs-executables/linux/ ./training-envs-executables/linux/SoccerTwos.zip"
      ],
      "metadata": {
        "id": "NEQcPSh9LvKM"
      },
      "execution_count": 12,
      "outputs": []
    },
    {
      "cell_type": "code",
      "source": [
        "!chmod -R 755 ./training-envs-executables/linux/SoccerTwos.x86_64"
      ],
      "metadata": {
        "id": "R-3qbdukL03_"
      },
      "execution_count": 13,
      "outputs": []
    },
    {
      "cell_type": "code",
      "source": [
        "env_id = \"SoccerTwos\""
      ],
      "metadata": {
        "id": "9CLlTtQ3MT_f"
      },
      "execution_count": null,
      "outputs": []
    },
    {
      "cell_type": "code",
      "source": [
        "!mlagents-learn --force ./config/poca/SoccerTwos.yaml --env=./training-envs-executables/linux/SoccerTwos.x86_64 --run-id=\"SoccerTwos\" --no-graphics"
      ],
      "metadata": {
        "colab": {
          "base_uri": "https://localhost:8080/"
        },
        "id": "RU3bLYfNMmCP",
        "outputId": "f5b0b896-f75f-4813-ed24-b141212df604"
      },
      "execution_count": 18,
      "outputs": [
        {
          "output_type": "stream",
          "name": "stdout",
          "text": [
            "/usr/local/lib/python3.10/dist-packages/torch/__init__.py:614: UserWarning: torch.set_default_tensor_type() is deprecated as of PyTorch 2.1, please use torch.set_default_dtype() and torch.set_default_device() as alternatives. (Triggered internally at ../torch/csrc/tensor/python_tensor.cpp:451.)\n",
            "  _C._set_default_tensor_type(t)\n",
            "2023-10-31 00:54:22.600136: E tensorflow/compiler/xla/stream_executor/cuda/cuda_dnn.cc:9342] Unable to register cuDNN factory: Attempting to register factory for plugin cuDNN when one has already been registered\n",
            "2023-10-31 00:54:22.600189: E tensorflow/compiler/xla/stream_executor/cuda/cuda_fft.cc:609] Unable to register cuFFT factory: Attempting to register factory for plugin cuFFT when one has already been registered\n",
            "2023-10-31 00:54:22.600233: E tensorflow/compiler/xla/stream_executor/cuda/cuda_blas.cc:1518] Unable to register cuBLAS factory: Attempting to register factory for plugin cuBLAS when one has already been registered\n",
            "2023-10-31 00:54:22.607930: I tensorflow/core/platform/cpu_feature_guard.cc:182] This TensorFlow binary is optimized to use available CPU instructions in performance-critical operations.\n",
            "To enable the following instructions: AVX2 FMA, in other operations, rebuild TensorFlow with the appropriate compiler flags.\n",
            "\n",
            "            ┐  ╖\n",
            "        ╓╖╬│╡  ││╬╖╖\n",
            "    ╓╖╬│││││┘  ╬│││││╬╖\n",
            " ╖╬│││││╬╜        ╙╬│││││╖╖                               ╗╗╗\n",
            " ╬╬╬╬╖││╦╖        ╖╬││╗╣╣╣╬      ╟╣╣╬    ╟╣╣╣             ╜╜╜  ╟╣╣\n",
            " ╬╬╬╬╬╬╬╬╖│╬╖╖╓╬╪│╓╣╣╣╣╣╣╣╬      ╟╣╣╬    ╟╣╣╣ ╒╣╣╖╗╣╣╣╗   ╣╣╣ ╣╣╣╣╣╣ ╟╣╣╖   ╣╣╣\n",
            " ╬╬╬╬┐  ╙╬╬╬╬│╓╣╣╣╝╜  ╫╣╣╣╬      ╟╣╣╬    ╟╣╣╣ ╟╣╣╣╙ ╙╣╣╣  ╣╣╣ ╙╟╣╣╜╙  ╫╣╣  ╟╣╣\n",
            " ╬╬╬╬┐     ╙╬╬╣╣      ╫╣╣╣╬      ╟╣╣╬    ╟╣╣╣ ╟╣╣╬   ╣╣╣  ╣╣╣  ╟╣╣     ╣╣╣┌╣╣╜\n",
            " ╬╬╬╜       ╬╬╣╣      ╙╝╣╣╬      ╙╣╣╣╗╖╓╗╣╣╣╜ ╟╣╣╬   ╣╣╣  ╣╣╣  ╟╣╣╦╓    ╣╣╣╣╣\n",
            " ╙   ╓╦╖    ╬╬╣╣   ╓╗╗╖            ╙╝╣╣╣╣╝╜   ╘╝╝╜   ╝╝╝  ╝╝╝   ╙╣╣╣    ╟╣╣╣\n",
            "   ╩╬╬╬╬╬╬╦╦╬╬╣╣╗╣╣╣╣╣╣╣╝                                             ╫╣╣╣╣\n",
            "      ╙╬╬╬╬╬╬╬╣╣╣╣╣╣╝╜\n",
            "          ╙╬╬╬╣╣╣╜\n",
            "             ╙\n",
            "        \n",
            " Version information:\n",
            "  ml-agents: 1.1.0.dev0,\n",
            "  ml-agents-envs: 1.1.0.dev0,\n",
            "  Communicator API: 1.5.0,\n",
            "  PyTorch: 2.1.0+cu118\n",
            "[INFO] Connected to Unity environment with package version 2.3.0-exp.3 and communication version 1.5.0\n",
            "[INFO] Connected new brain: SoccerTwos?team=1\n",
            "[INFO] Connected new brain: SoccerTwos?team=0\n",
            "[WARNING] Deleting TensorBoard data events.out.tfevents.1698713537.7a3b21957bd3.5363.0 that was left over from a previous run.\n",
            "[INFO] Hyperparameters for behavior name SoccerTwos: \n",
            "\ttrainer_type:\tpoca\n",
            "\thyperparameters:\t\n",
            "\t  batch_size:\t2048\n",
            "\t  buffer_size:\t20480\n",
            "\t  learning_rate:\t0.0003\n",
            "\t  beta:\t0.005\n",
            "\t  epsilon:\t0.2\n",
            "\t  lambd:\t0.95\n",
            "\t  num_epoch:\t3\n",
            "\t  learning_rate_schedule:\tconstant\n",
            "\t  beta_schedule:\tconstant\n",
            "\t  epsilon_schedule:\tconstant\n",
            "\tcheckpoint_interval:\t500000\n",
            "\tnetwork_settings:\t\n",
            "\t  normalize:\tFalse\n",
            "\t  hidden_units:\t512\n",
            "\t  num_layers:\t2\n",
            "\t  vis_encode_type:\tsimple\n",
            "\t  memory:\tNone\n",
            "\t  goal_conditioning_type:\thyper\n",
            "\t  deterministic:\tFalse\n",
            "\treward_signals:\t\n",
            "\t  extrinsic:\t\n",
            "\t    gamma:\t0.99\n",
            "\t    strength:\t1.0\n",
            "\t    network_settings:\t\n",
            "\t      normalize:\tFalse\n",
            "\t      hidden_units:\t128\n",
            "\t      num_layers:\t2\n",
            "\t      vis_encode_type:\tsimple\n",
            "\t      memory:\tNone\n",
            "\t      goal_conditioning_type:\thyper\n",
            "\t      deterministic:\tFalse\n",
            "\tinit_path:\tNone\n",
            "\tkeep_checkpoints:\t5\n",
            "\teven_checkpoints:\tFalse\n",
            "\tmax_steps:\t1000000\n",
            "\ttime_horizon:\t1000\n",
            "\tsummary_freq:\t10000\n",
            "\tthreaded:\tFalse\n",
            "\tself_play:\t\n",
            "\t  save_steps:\t50000\n",
            "\t  team_change:\t200000\n",
            "\t  swap_steps:\t2000\n",
            "\t  window:\t10\n",
            "\t  play_against_latest_model_ratio:\t0.5\n",
            "\t  initial_elo:\t1200.0\n",
            "\tbehavioral_cloning:\tNone\n",
            "/content/ml-agents/ml-agents/mlagents/trainers/torch_entities/utils.py:289: UserWarning: The use of `x.T` on tensors of dimension other than 2 to reverse their shape is deprecated and it will throw an error in a future release. Consider `x.mT` to transpose batches of matrices or `x.permute(*torch.arange(x.ndim - 1, -1, -1))` to reverse the dimensions of a tensor. (Triggered internally at ../aten/src/ATen/native/TensorShape.cpp:3614.)\n",
            "  torch.nn.functional.one_hot(_act.T, action_size[i]).float()\n",
            "[INFO] SoccerTwos. Step: 10000. Time Elapsed: 33.021 s. Mean Reward: 0.000. Mean Group Reward: -0.357. Training. ELO: 1199.059.\n",
            "[INFO] SoccerTwos. Step: 20000. Time Elapsed: 54.985 s. Mean Reward: 0.000. Mean Group Reward: -0.044. Training. ELO: 1199.024.\n",
            "[INFO] SoccerTwos. Step: 30000. Time Elapsed: 75.811 s. Mean Reward: 0.000. Mean Group Reward: -0.031. Training. ELO: 1199.024.\n",
            "[INFO] SoccerTwos. Step: 40000. Time Elapsed: 95.136 s. Mean Reward: 0.000. Mean Group Reward: -0.473. Training. ELO: 1197.414.\n",
            "[INFO] SoccerTwos. Step: 50000. Time Elapsed: 117.907 s. Mean Reward: 0.000. Mean Group Reward: 0.023. Training. ELO: 1197.762.\n",
            "[INFO] SoccerTwos. Step: 60000. Time Elapsed: 137.594 s. Mean Reward: 0.000. Mean Group Reward: -0.100. Training.\n",
            "[INFO] SoccerTwos. Step: 70000. Time Elapsed: 161.061 s. Mean Reward: 0.000. Mean Group Reward: -0.308. Training. ELO: 1197.262.\n",
            "[INFO] SoccerTwos. Step: 80000. Time Elapsed: 175.775 s. Mean Reward: 0.000. Mean Group Reward: -0.257. Training. ELO: 1195.452.\n",
            "[INFO] SoccerTwos. Step: 90000. Time Elapsed: 200.578 s. Mean Reward: 0.000. Mean Group Reward: 0.057. Training. ELO: 1195.653.\n",
            "[INFO] SoccerTwos. Step: 100000. Time Elapsed: 217.539 s. Mean Reward: 0.000. Mean Group Reward: 0.000. Training.\n",
            "[INFO] SoccerTwos. Step: 110000. Time Elapsed: 242.071 s. Mean Reward: 0.000. Mean Group Reward: 0.033. Training. ELO: 1196.166.\n",
            "[INFO] SoccerTwos. Step: 120000. Time Elapsed: 258.079 s. Mean Reward: 0.000. Mean Group Reward: -0.032. Training. ELO: 1197.476.\n",
            "[INFO] Learning was interrupted. Please wait while the graph is generated.\n",
            "[INFO] Exported results/SoccerTwos/SoccerTwos/SoccerTwos-121572.onnx\n",
            "[INFO] Copied results/SoccerTwos/SoccerTwos/SoccerTwos-121572.onnx to results/SoccerTwos/SoccerTwos.onnx.\n"
          ]
        }
      ]
    },
    {
      "cell_type": "code",
      "source": [
        "!huggingface-cli login"
      ],
      "metadata": {
        "colab": {
          "base_uri": "https://localhost:8080/"
        },
        "id": "1xQo-cUOPJUa",
        "outputId": "1f221c11-f95e-48ac-fa8a-4b92fc0ff720"
      },
      "execution_count": 20,
      "outputs": [
        {
          "output_type": "stream",
          "name": "stdout",
          "text": [
            "\n",
            "    _|    _|  _|    _|    _|_|_|    _|_|_|  _|_|_|  _|      _|    _|_|_|      _|_|_|_|    _|_|      _|_|_|  _|_|_|_|\n",
            "    _|    _|  _|    _|  _|        _|          _|    _|_|    _|  _|            _|        _|    _|  _|        _|\n",
            "    _|_|_|_|  _|    _|  _|  _|_|  _|  _|_|    _|    _|  _|  _|  _|  _|_|      _|_|_|    _|_|_|_|  _|        _|_|_|\n",
            "    _|    _|  _|    _|  _|    _|  _|    _|    _|    _|    _|_|  _|    _|      _|        _|    _|  _|        _|\n",
            "    _|    _|    _|_|      _|_|_|    _|_|_|  _|_|_|  _|      _|    _|_|_|      _|        _|    _|    _|_|_|  _|_|_|_|\n",
            "    \n",
            "    To login, `huggingface_hub` requires a token generated from https://huggingface.co/settings/tokens .\n",
            "Token: \n",
            "Add token as git credential? (Y/n) y\n",
            "Token is valid (permission: write).\n",
            "\u001b[1m\u001b[31mCannot authenticate through git-credential as no helper is defined on your machine.\n",
            "You might have to re-authenticate when pushing to the Hugging Face Hub.\n",
            "Run the following command in your terminal in case you want to set the 'store' credential helper as default.\n",
            "\n",
            "git config --global credential.helper store\n",
            "\n",
            "Read https://git-scm.com/book/en/v2/Git-Tools-Credential-Storage for more details.\u001b[0m\n",
            "Token has not been saved to git credential helper.\n",
            "Your token has been saved to /root/.cache/huggingface/token\n",
            "Login successful\n"
          ]
        }
      ]
    },
    {
      "cell_type": "code",
      "source": [
        "!mlagents-push-to-hf  --run-id=\"SoccerTwos\" --local-dir=\"./results/SoccerTwos\" --repo-id=\"akter-sust/poca-SoccerTwos\" --commit-message=\"First Push of the model\""
      ],
      "metadata": {
        "colab": {
          "base_uri": "https://localhost:8080/"
        },
        "id": "0IW_sGaiPlEu",
        "outputId": "a4adbf73-64e2-4962-e7d3-3182ce19f93f"
      },
      "execution_count": 22,
      "outputs": [
        {
          "output_type": "stream",
          "name": "stdout",
          "text": [
            "[INFO] This function will create a model card and upload your SoccerTwos into HuggingFace Hub. This is a work in progress: If you encounter a bug, please send open an issue\n",
            "[INFO] Pushing repo SoccerTwos to the Hugging Face Hub\n",
            "SoccerTwos.onnx:   0% 0.00/1.77M [00:00<?, ?B/s]\n",
            "SoccerTwos-49680.onnx:   0% 0.00/1.77M [00:00<?, ?B/s]\u001b[A\n",
            "\n",
            "checkpoint.pt:   0% 0.00/28.4M [00:00<?, ?B/s]\u001b[A\u001b[A\n",
            "\n",
            "\n",
            "\n",
            "SoccerTwos-121572.pt:   0% 0.00/28.4M [00:00<?, ?B/s]\u001b[A\u001b[A\u001b[A\u001b[A\n",
            "\n",
            "\n",
            "SoccerTwos-49680.pt:   0% 0.00/28.4M [00:00<?, ?B/s]\u001b[A\u001b[A\u001b[A\n",
            "\n",
            "\n",
            "\n",
            "\n",
            "SoccerTwos.onnx:   1% 16.4k/1.77M [00:00<00:42, 40.8kB/s]\n",
            "SoccerTwos-49680.onnx:   1% 16.4k/1.77M [00:00<00:46, 37.7kB/s]\u001b[A\n",
            "\n",
            "checkpoint.pt:   0% 16.4k/28.4M [00:00<13:00, 36.4kB/s]\u001b[A\u001b[A\n",
            "\n",
            "\n",
            "SoccerTwos-49680.pt:   0% 16.4k/28.4M [00:00<13:02, 36.3kB/s]\u001b[A\u001b[A\u001b[A\n",
            "\n",
            "\n",
            "\n",
            "SoccerTwos-121572.pt:   0% 16.4k/28.4M [00:00<13:11, 35.9kB/s]\u001b[A\u001b[A\u001b[A\u001b[A\n",
            "\n",
            "\n",
            "\n",
            "SoccerTwos-121572.pt:   1% 410k/28.4M [00:00<00:29, 961kB/s]  \u001b[A\u001b[A\u001b[A\u001b[A\n",
            "\n",
            "checkpoint.pt:   2% 573k/28.4M [00:00<00:22, 1.23MB/s] \u001b[A\u001b[A\n",
            "\n",
            "\n",
            "SoccerTwos-49680.pt:   2% 475k/28.4M [00:00<00:27, 1.02MB/s] \u001b[A\u001b[A\u001b[A\n",
            "SoccerTwos-49680.onnx:  31% 557k/1.77M [00:00<00:01, 1.04MB/s] \u001b[A\n",
            "\n",
            "checkpoint.pt:   3% 803k/28.4M [00:00<00:19, 1.40MB/s]\u001b[A\u001b[A\n",
            "\n",
            "\n",
            "\n",
            "SoccerTwos-121572.pt:   2% 672k/28.4M [00:00<00:23, 1.18MB/s]\u001b[A\u001b[A\u001b[A\u001b[A\n",
            "\n",
            "\n",
            "SoccerTwos-49680.pt:   3% 737k/28.4M [00:00<00:22, 1.21MB/s]\u001b[A\u001b[A\u001b[A\n",
            "SoccerTwos-49680.onnx:  46% 819k/1.77M [00:00<00:00, 1.16MB/s]\u001b[A\n",
            "\n",
            "checkpoint.pt:   4% 1.02M/28.4M [00:00<00:18, 1.46MB/s]\u001b[A\u001b[A\n",
            "\n",
            "\n",
            "\n",
            "SoccerTwos-121572.pt:   3% 868k/28.4M [00:00<00:21, 1.26MB/s]\u001b[A\u001b[A\u001b[A\u001b[A\n",
            "SoccerTwos-49680.onnx:  64% 1.13M/1.77M [00:01<00:00, 1.14MB/s]\u001b[A\n",
            "\n",
            "checkpoint.pt:   4% 1.21M/28.4M [00:01<00:25, 1.07MB/s]\u001b[A\u001b[A\n",
            "\n",
            "\n",
            "SoccerTwos-49680.pt:   4% 1.06M/28.4M [00:01<00:26, 1.02MB/s]\u001b[A\u001b[A\u001b[A\n",
            "\n",
            "\n",
            "\n",
            "SoccerTwos-121572.pt:   4% 1.05M/28.4M [00:01<00:28, 945kB/s]\u001b[A\u001b[A\u001b[A\u001b[A\n",
            "\n",
            "\n",
            "SoccerTwos-49680.pt:  13% 3.65M/28.4M [00:01<00:05, 4.90MB/s]\u001b[A\u001b[A\u001b[A\n",
            "\n",
            "\n",
            "\n",
            "SoccerTwos-121572.pt:  13% 3.78M/28.4M [00:01<00:04, 5.20MB/s]\u001b[A\u001b[A\u001b[A\u001b[A\n",
            "\n",
            "checkpoint.pt:  12% 3.29M/28.4M [00:01<00:06, 4.15MB/s]\u001b[A\u001b[A\n",
            "\n",
            "\n",
            "SoccerTwos-49680.pt:  16% 4.55M/28.4M [00:01<00:04, 5.03MB/s]\u001b[A\u001b[A\u001b[A\n",
            "\n",
            "\n",
            "\n",
            "SoccerTwos-121572.pt:  16% 4.55M/28.4M [00:01<00:04, 5.10MB/s]\u001b[A\u001b[A\u001b[A\u001b[A\n",
            "\n",
            "checkpoint.pt:  13% 3.78M/28.4M [00:01<00:06, 3.54MB/s]\u001b[A\u001b[A\n",
            "\n",
            "\n",
            "SoccerTwos-49680.pt:  20% 5.59M/28.4M [00:01<00:04, 5.24MB/s]\u001b[A\u001b[A\u001b[A\n",
            "\n",
            "\n",
            "\n",
            "SoccerTwos-121572.pt:  20% 5.59M/28.4M [00:01<00:04, 5.26MB/s]\u001b[A\u001b[A\u001b[A\u001b[A\n",
            "\n",
            "checkpoint.pt:  15% 4.19M/28.4M [00:01<00:08, 2.95MB/s]\u001b[A\u001b[A\n",
            "\n",
            "\n",
            "SoccerTwos-49680.pt:  24% 6.82M/28.4M [00:01<00:03, 5.71MB/s]\u001b[A\u001b[A\u001b[A\n",
            "\n",
            "\n",
            "\n",
            "SoccerTwos.onnx: 100% 1.77M/1.77M [00:01<00:00, 899kB/s] \n",
            "\n",
            "\n",
            "checkpoint.pt:  16% 4.52M/28.4M [00:01<00:09, 2.62MB/s]\u001b[A\u001b[A\n",
            "\n",
            "\n",
            "SoccerTwos-49680.pt:  29% 8.31M/28.4M [00:01<00:03, 6.43MB/s]\u001b[A\u001b[A\u001b[A\n",
            "\n",
            "\n",
            "\n",
            "SoccerTwos-121572.pt:  29% 8.31M/28.4M [00:02<00:03, 6.58MB/s]\u001b[A\u001b[A\u001b[A\u001b[A\n",
            "\n",
            "checkpoint.pt:  17% 4.82M/28.4M [00:02<00:09, 2.56MB/s]\u001b[A\u001b[A\n",
            "\n",
            "checkpoint.pt:  18% 5.18M/28.4M [00:02<00:09, 2.37MB/s]\u001b[A\u001b[A\n",
            "\n",
            "\n",
            "SoccerTwos-49680.pt:  36% 10.1M/28.4M [00:02<00:02, 6.42MB/s]\u001b[A\u001b[A\u001b[A\n",
            "\n",
            "\n",
            "\n",
            "SoccerTwos-121572.pt:  36% 10.2M/28.4M [00:02<00:02, 6.62MB/s]\u001b[A\u001b[A\u001b[A\u001b[A\n",
            "\n",
            "checkpoint.pt:  20% 5.82M/28.4M [00:02<00:08, 2.75MB/s]\u001b[A\u001b[A\n",
            "\n",
            "\n",
            "\n",
            "\n",
            "Upload 7 LFS files:  14% 1/7 [00:02<00:14,  2.44s/it]\u001b[A\u001b[A\u001b[A\u001b[A\u001b[A\n",
            "\n",
            "\n",
            "events.out.tfevents.1698713663.7a3b21957bd3.5948.0:   0% 0.00/99.7k [00:00<?, ?B/s]\n",
            "\n",
            "\n",
            "\n",
            "SoccerTwos-121572.pt:  40% 11.4M/28.4M [00:02<00:02, 6.68MB/s]\u001b[A\u001b[A\u001b[A\u001b[A\n",
            "\n",
            "\n",
            "SoccerTwos-49680.pt:  44% 12.5M/28.4M [00:02<00:02, 7.29MB/s]\u001b[A\u001b[A\u001b[A\n",
            "\n",
            "checkpoint.pt:  23% 6.47M/28.4M [00:02<00:06, 3.15MB/s]\u001b[A\u001b[A\n",
            "\n",
            "\n",
            "\n",
            "SoccerTwos-121572.pt:  45% 12.7M/28.4M [00:02<00:02, 7.51MB/s]\u001b[A\u001b[A\u001b[A\u001b[A\n",
            "\n",
            "checkpoint.pt:  26% 7.31M/28.4M [00:02<00:05, 4.10MB/s]\u001b[A\u001b[A\n",
            "\n",
            "\n",
            "SoccerTwos-49680.pt:  53% 15.1M/28.4M [00:02<00:01, 9.95MB/s]\u001b[A\u001b[A\u001b[A\n",
            "\n",
            "\n",
            "\n",
            "SoccerTwos-121572.pt:  55% 15.6M/28.4M [00:02<00:01, 10.7MB/s]\u001b[A\u001b[A\u001b[A\u001b[A\n",
            "\n",
            "SoccerTwos-49680.onnx: 100% 1.77M/1.77M [00:02<00:00, 611kB/s] \n",
            "\n",
            "\n",
            "events.out.tfevents.1698713663.7a3b21957bd3.5948.0: 100% 99.7k/99.7k [00:00<00:00, 160kB/s]\n",
            "SoccerTwos.onnx:   0% 0.00/1.77M [00:00<?, ?B/s]\n",
            "\n",
            "\n",
            "\n",
            "SoccerTwos-121572.pt:  59% 16.8M/28.4M [00:03<00:02, 4.29MB/s]\u001b[A\u001b[A\u001b[A\u001b[A\n",
            "\n",
            "\n",
            "SoccerTwos-49680.pt:  57% 16.2M/28.4M [00:03<00:03, 3.83MB/s]\u001b[A\u001b[A\u001b[A\n",
            "\n",
            "\n",
            "\n",
            "SoccerTwos-121572.pt:  71% 20.3M/28.4M [00:03<00:01, 7.50MB/s]\u001b[A\u001b[A\u001b[A\u001b[A\n",
            "\n",
            "checkpoint.pt:  60% 16.9M/28.4M [00:03<00:01, 5.93MB/s]\u001b[A\u001b[A\n",
            "\n",
            "\n",
            "\n",
            "SoccerTwos-121572.pt:  83% 23.7M/28.4M [00:03<00:00, 9.85MB/s]\u001b[A\u001b[A\u001b[A\u001b[A\n",
            "\n",
            "SoccerTwos-49680.pt: 100% 28.4M/28.4M [00:04<00:00, 6.70MB/s]\n",
            "\n",
            "\n",
            "checkpoint.pt:  69% 19.5M/28.4M [00:04<00:01, 5.79MB/s]\u001b[A\u001b[A\n",
            "\n",
            "checkpoint.pt:  72% 20.5M/28.4M [00:04<00:01, 5.45MB/s]\u001b[A\u001b[A\n",
            "\n",
            "\n",
            "\n",
            "SoccerTwos-121572.pt:  94% 26.6M/28.4M [00:04<00:00, 7.05MB/s]\u001b[A\u001b[A\u001b[A\u001b[A\n",
            "\n",
            "checkpoint.pt:  75% 21.3M/28.4M [00:04<00:01, 5.25MB/s]\u001b[A\u001b[A\n",
            "\n",
            "\n",
            "\n",
            "SoccerTwos-121572.pt: 100% 28.4M/28.4M [00:04<00:00, 6.79MB/s]\u001b[A\u001b[A\u001b[A\u001b[A\n",
            "\n",
            "checkpoint.pt:  78% 22.2M/28.4M [00:04<00:01, 5.11MB/s]\u001b[A\u001b[A\n",
            "\n",
            "SoccerTwos.onnx: 100% 1.77M/1.77M [00:01<00:00, 1.07MB/s]\n",
            "\n",
            "\n",
            "checkpoint.pt:  86% 24.3M/28.4M [00:05<00:00, 5.58MB/s]\u001b[A\u001b[A\n",
            "\n",
            "checkpoint.pt:  90% 25.7M/28.4M [00:05<00:00, 6.79MB/s]\u001b[A\u001b[A\n",
            "\n",
            "SoccerTwos-121572.pt: 100% 28.4M/28.4M [00:06<00:00, 4.62MB/s]\n",
            "checkpoint.pt: 100% 28.4M/28.4M [00:06<00:00, 4.59MB/s]\n",
            "\n",
            "\n",
            "\n",
            "\n",
            "\n",
            "Upload 7 LFS files: 100% 7/7 [00:06<00:00,  1.03it/s]\n",
            "[INFO] Your model is pushed to the hub. You can view your model here: https://huggingface.co/akter-sust/poca-SoccerTwos\n"
          ]
        }
      ]
    }
  ]
}